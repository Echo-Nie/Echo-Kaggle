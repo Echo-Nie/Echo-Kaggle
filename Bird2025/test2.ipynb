{
 "cells": [
  {
   "cell_type": "markdown",
   "id": "0323ade7",
   "metadata": {
    "papermill": {
     "duration": 0.005261,
     "end_time": "2025-05-15T20:43:44.159291",
     "exception": false,
     "start_time": "2025-05-15T20:43:44.154030",
     "status": "completed"
    },
    "tags": []
   },
   "source": [
    "# Post-Processing with Power Adjustment for Low-Ranked Classes\n",
    "This notebook demonstrates a simple post-processing method applied during inference. \n",
    "While this improves the LB score, please note that it may be overfitting to the leaderboard."
   ]
  },
  {
   "cell_type": "markdown",
   "id": "784fc7a9",
   "metadata": {
    "papermill": {
     "duration": 0.004124,
     "end_time": "2025-05-15T20:43:44.168334",
     "exception": false,
     "start_time": "2025-05-15T20:43:44.164210",
     "status": "completed"
    },
    "tags": []
   },
   "source": [
    "# Post-Processing Function"
   ]
  },
  {
   "cell_type": "code",
   "execution_count": 1,
   "id": "42bde244",
   "metadata": {
    "execution": {
     "iopub.execute_input": "2025-05-15T20:43:44.178688Z",
     "iopub.status.busy": "2025-05-15T20:43:44.178260Z",
     "iopub.status.idle": "2025-05-15T20:43:44.186092Z",
     "shell.execute_reply": "2025-05-15T20:43:44.185059Z"
    },
    "papermill": {
     "duration": 0.014875,
     "end_time": "2025-05-15T20:43:44.187709",
     "exception": false,
     "start_time": "2025-05-15T20:43:44.172834",
     "status": "completed"
    },
    "tags": []
   },
   "outputs": [],
   "source": [
    "import numpy as np\n",
    "from typing import Union\n",
    "\n",
    "def apply_power_to_low_ranked_cols(\n",
    "    p: np.ndarray,\n",
    "    top_k: int = 30,\n",
    "    exponent: Union[int, float] = 2,\n",
    "    inplace: bool = True\n",
    ") -> np.ndarray:\n",
    "    \"\"\"\n",
    "    Rank columns by their column‑wise maximum and raise every column whose\n",
    "    rank falls below `top_k` to a given power.\n",
    "\n",
    "    Parameters\n",
    "    ----------\n",
    "    p : np.ndarray\n",
    "        A 2‑D array of shape **(n_chunks, n_classes)**.\n",
    "\n",
    "        - **n_chunks** is the number of fixed‑length time chunks obtained\n",
    "          after slicing the input audio (or other sequential data).  \n",
    "          *Example:* In the BirdCLEF `test_soundscapes` set, each file is\n",
    "          60 s long. If you extract non‑overlapping 5 s windows,  \n",
    "          `n_chunks = 60 s / 5 s = 12`.\n",
    "        - **n_classes** is the number of classes being predicted.\n",
    "        - Each element `p[i, j]` is the score or probability of class *j*\n",
    "          in chunk *i*.\n",
    "\n",
    "    top_k : int, default=30\n",
    "        The highest‑ranked columns (by their maximum value) that remain\n",
    "        unchanged.\n",
    "\n",
    "    exponent : int or float, default=2\n",
    "        The power applied to the selected low‑ranked columns  \n",
    "        (e.g. `2` squares, `0.5` takes the square root, `3` cubes).\n",
    "\n",
    "    inplace : bool, default=True\n",
    "        If `True`, modify `p` in place.  \n",
    "        If `False`, operate on a copy and leave the original array intact.\n",
    "\n",
    "    Returns\n",
    "    -------\n",
    "    np.ndarray\n",
    "        The transformed array. It is the same object as `p` when\n",
    "        `inplace=True`; otherwise, it is a new array.\n",
    "\n",
    "    \"\"\"\n",
    "    if not inplace:\n",
    "        p = p.copy()\n",
    "\n",
    "    # Identify columns whose max value ranks below `top_k`\n",
    "    tail_cols = np.argsort(-p.max(axis=0))[top_k:]\n",
    "\n",
    "    # Apply the power transformation to those columns\n",
    "    p[:, tail_cols] = p[:, tail_cols] ** exponent\n",
    "    return p"
   ]
  },
  {
   "cell_type": "markdown",
   "id": "ff7ef1ce",
   "metadata": {
    "papermill": {
     "duration": 0.004062,
     "end_time": "2025-05-15T20:43:44.196328",
     "exception": false,
     "start_time": "2025-05-15T20:43:44.192266",
     "status": "completed"
    },
    "tags": []
   },
   "source": [
    "# Import"
   ]
  },
  {
   "cell_type": "code",
   "execution_count": 2,
   "id": "ec82828e",
   "metadata": {
    "execution": {
     "iopub.execute_input": "2025-05-15T20:43:44.206508Z",
     "iopub.status.busy": "2025-05-15T20:43:44.206172Z",
     "iopub.status.idle": "2025-05-15T20:44:00.891033Z",
     "shell.execute_reply": "2025-05-15T20:44:00.889818Z"
    },
    "papermill": {
     "duration": 16.692193,
     "end_time": "2025-05-15T20:44:00.893014",
     "exception": false,
     "start_time": "2025-05-15T20:43:44.200821",
     "status": "completed"
    },
    "tags": []
   },
   "outputs": [],
   "source": [
    "import os\n",
    "import gc\n",
    "import time\n",
    "import numpy as np\n",
    "import pandas as pd\n",
    "import torch\n",
    "import torch.nn as nn\n",
    "import timm\n",
    "import torch.nn.functional as F\n",
    "import torchaudio\n",
    "import torchaudio.transforms as AT\n",
    "from contextlib import contextmanager\n",
    "import concurrent.futures"
   ]
  },
  {
   "cell_type": "markdown",
   "id": "a6b53c2e",
   "metadata": {
    "papermill": {
     "duration": 0.004225,
     "end_time": "2025-05-15T20:44:00.901827",
     "exception": false,
     "start_time": "2025-05-15T20:44:00.897602",
     "status": "completed"
    },
    "tags": []
   },
   "source": [
    "# Load data"
   ]
  },
  {
   "cell_type": "code",
   "execution_count": 3,
   "id": "fb8e0716",
   "metadata": {
    "execution": {
     "iopub.execute_input": "2025-05-15T20:44:00.911889Z",
     "iopub.status.busy": "2025-05-15T20:44:00.911450Z",
     "iopub.status.idle": "2025-05-15T20:44:01.042506Z",
     "shell.execute_reply": "2025-05-15T20:44:01.041262Z"
    },
    "papermill": {
     "duration": 0.138184,
     "end_time": "2025-05-15T20:44:01.044334",
     "exception": false,
     "start_time": "2025-05-15T20:44:00.906150",
     "status": "completed"
    },
    "tags": []
   },
   "outputs": [
    {
     "name": "stdout",
     "output_type": "stream",
     "text": [
      "Debug mode: True\n",
      "Number of test soundscapes: 8\n"
     ]
    }
   ],
   "source": [
    "test_audio_dir = '../input/birdclef-2025/test_soundscapes/'\n",
    "file_list = [f for f in sorted(os.listdir(test_audio_dir))]\n",
    "file_list = [file.split('.')[0] for file in file_list if file.endswith('.ogg')]\n",
    "\n",
    "debug = False\n",
    "if len(file_list) == 0:\n",
    "    debug = True\n",
    "    debug_st_num = 5\n",
    "    debug_num = 8\n",
    "    test_audio_dir = '../input/birdclef-2025/train_soundscapes/'\n",
    "    file_list = [f for f in sorted(os.listdir(test_audio_dir))]\n",
    "    file_list = [file.split('.')[0] for file in file_list if file.endswith('.ogg')]\n",
    "    file_list = file_list[debug_st_num:debug_st_num+debug_num]\n",
    "\n",
    "print('Debug mode:', debug)\n",
    "print('Number of test soundscapes:', len(file_list))"
   ]
  },
  {
   "cell_type": "code",
   "execution_count": 4,
   "id": "60b2084f",
   "metadata": {
    "execution": {
     "iopub.execute_input": "2025-05-15T20:44:01.054858Z",
     "iopub.status.busy": "2025-05-15T20:44:01.054441Z",
     "iopub.status.idle": "2025-05-15T20:44:01.159421Z",
     "shell.execute_reply": "2025-05-15T20:44:01.158239Z"
    },
    "papermill": {
     "duration": 0.112511,
     "end_time": "2025-05-15T20:44:01.161506",
     "exception": false,
     "start_time": "2025-05-15T20:44:01.048995",
     "status": "completed"
    },
    "tags": []
   },
   "outputs": [],
   "source": [
    "wav_sec = 5\n",
    "sample_rate = 32000\n",
    "min_segment = sample_rate*wav_sec\n",
    "\n",
    "class_labels = sorted(os.listdir('../input/birdclef-2025/train_audio/'))\n",
    "\n",
    "n_fft=1024\n",
    "win_length=1024\n",
    "hop_length=512\n",
    "f_min=50\n",
    "f_max=16000\n",
    "n_mels=128\n",
    "\n",
    "mel_spectrogram = AT.MelSpectrogram(\n",
    "    sample_rate=sample_rate,\n",
    "    n_fft=n_fft,\n",
    "    win_length=win_length,\n",
    "    hop_length=hop_length,\n",
    "    center=True,\n",
    "    f_min=f_min,\n",
    "    f_max=f_max,\n",
    "    pad_mode=\"reflect\",\n",
    "    power=2.0,\n",
    "    norm='slaney',\n",
    "    n_mels=n_mels,\n",
    "    mel_scale=\"htk\",\n",
    "    # normalized=True\n",
    ")\n",
    "\n",
    "def normalize_std(spec, eps=1e-6):\n",
    "    mean = torch.mean(spec)\n",
    "    std = torch.std(spec)\n",
    "    return torch.where(std == 0, spec-mean, (spec - mean) / (std+eps))\n",
    "\n",
    "def audio_to_mel(filepath=None):\n",
    "    waveform, sample_rate = torchaudio.load(filepath,backend=\"soundfile\")\n",
    "    len_wav = waveform.shape[1]\n",
    "    waveform = waveform[0,:].reshape(1, len_wav) # stereo->mono mono->mono\n",
    "    PREDS = []\n",
    "    for i in range(12):\n",
    "        waveform2 = waveform[:,i*sample_rate*5:i*sample_rate*5+sample_rate*5]\n",
    "        melspec = mel_spectrogram(waveform2)\n",
    "        melspec = torch.log(melspec+1e-6)\n",
    "        melspec = normalize_std(melspec)\n",
    "        melspec = torch.unsqueeze(melspec, dim=0)\n",
    "        \n",
    "        PREDS.append(melspec)\n",
    "    return torch.vstack(PREDS)"
   ]
  },
  {
   "cell_type": "markdown",
   "id": "4648066b",
   "metadata": {
    "papermill": {
     "duration": 0.004526,
     "end_time": "2025-05-15T20:44:01.171207",
     "exception": false,
     "start_time": "2025-05-15T20:44:01.166681",
     "status": "completed"
    },
    "tags": []
   },
   "source": [
    "# Model"
   ]
  },
  {
   "cell_type": "code",
   "execution_count": 5,
   "id": "e3ad8eda",
   "metadata": {
    "execution": {
     "iopub.execute_input": "2025-05-15T20:44:01.182247Z",
     "iopub.status.busy": "2025-05-15T20:44:01.181848Z",
     "iopub.status.idle": "2025-05-15T20:44:01.199334Z",
     "shell.execute_reply": "2025-05-15T20:44:01.198243Z"
    },
    "papermill": {
     "duration": 0.025324,
     "end_time": "2025-05-15T20:44:01.201134",
     "exception": false,
     "start_time": "2025-05-15T20:44:01.175810",
     "status": "completed"
    },
    "tags": []
   },
   "outputs": [],
   "source": [
    "def init_layer(layer):\n",
    "    nn.init.xavier_uniform_(layer.weight)\n",
    "    if hasattr(layer, \"bias\"):\n",
    "        if layer.bias is not None:\n",
    "            layer.bias.data.fill_(0.)\n",
    "\n",
    "\n",
    "def init_bn(bn):\n",
    "    bn.bias.data.fill_(0.)\n",
    "    bn.weight.data.fill_(1.0)\n",
    "\n",
    "\n",
    "def init_weights(model):\n",
    "    classname = model.__class__.__name__\n",
    "    if classname.find(\"Conv2d\") != -1:\n",
    "        nn.init.xavier_uniform_(model.weight, gain=np.sqrt(2))\n",
    "        model.bias.data.fill_(0)\n",
    "    elif classname.find(\"BatchNorm\") != -1:\n",
    "        model.weight.data.normal_(1.0, 0.02)\n",
    "        model.bias.data.fill_(0)\n",
    "    elif classname.find(\"GRU\") != -1:\n",
    "        for weight in model.parameters():\n",
    "            if len(weight.size()) > 1:\n",
    "                nn.init.orghogonal_(weight.data)\n",
    "    elif classname.find(\"Linear\") != -1:\n",
    "        model.weight.data.normal_(0, 0.01)\n",
    "        model.bias.data.zero_()\n",
    "\n",
    "\n",
    "def interpolate(x, ratio):\n",
    "    (batch_size, time_steps, classes_num) = x.shape\n",
    "    upsampled = x[:, :, None, :].repeat(1, 1, ratio, 1)\n",
    "    upsampled = upsampled.reshape(batch_size, time_steps * ratio, classes_num)\n",
    "    return upsampled\n",
    "\n",
    "\n",
    "def pad_framewise_output(framewise_output, frames_num):\n",
    "    output = F.interpolate(\n",
    "        framewise_output.unsqueeze(1),\n",
    "        size=(frames_num, framewise_output.size(2)),\n",
    "        align_corners=True,\n",
    "        mode=\"bilinear\").squeeze(1)\n",
    "\n",
    "    return output\n",
    "\n",
    "\n",
    "class AttBlockV2(nn.Module):\n",
    "    def __init__(self,\n",
    "                 in_features: int,\n",
    "                 out_features: int,\n",
    "                 activation=\"linear\"):\n",
    "        super().__init__()\n",
    "\n",
    "        self.activation = activation\n",
    "        self.att = nn.Conv1d(\n",
    "            in_channels=in_features,\n",
    "            out_channels=out_features,\n",
    "            kernel_size=1,\n",
    "            stride=1,\n",
    "            padding=0,\n",
    "            bias=True)\n",
    "        self.cla = nn.Conv1d(\n",
    "            in_channels=in_features,\n",
    "            out_channels=out_features,\n",
    "            kernel_size=1,\n",
    "            stride=1,\n",
    "            padding=0,\n",
    "            bias=True)\n",
    "\n",
    "        self.init_weights()\n",
    "\n",
    "    def init_weights(self):\n",
    "        init_layer(self.att)\n",
    "        init_layer(self.cla)\n",
    "\n",
    "    def forward(self, x):\n",
    "        norm_att = torch.softmax(torch.tanh(self.att(x)), dim=-1)\n",
    "        cla = self.nonlinear_transform(self.cla(x))\n",
    "        x = torch.sum(norm_att * cla, dim=2)\n",
    "        return x, norm_att, cla\n",
    "\n",
    "    def nonlinear_transform(self, x):\n",
    "        if self.activation == 'linear':\n",
    "            return x\n",
    "        elif self.activation == 'sigmoid':\n",
    "            return torch.sigmoid(x)\n",
    "\n",
    "\n",
    "class TimmSED(nn.Module):\n",
    "    def __init__(self, base_model_name: str, pretrained=False, num_classes=24, in_channels=1, n_mels=24):\n",
    "        super().__init__()\n",
    "\n",
    "        self.bn0 = nn.BatchNorm2d(n_mels)\n",
    "\n",
    "        base_model = timm.create_model(\n",
    "            base_model_name, pretrained=pretrained, in_chans=in_channels)\n",
    "        layers = list(base_model.children())[:-2]\n",
    "        self.encoder = nn.Sequential(*layers)\n",
    "\n",
    "        in_features = base_model.num_features\n",
    "\n",
    "        self.fc1 = nn.Linear(in_features, in_features, bias=True)\n",
    "        self.att_block2 = AttBlockV2(\n",
    "            in_features, num_classes, activation=\"sigmoid\")\n",
    "\n",
    "        self.init_weight()\n",
    "\n",
    "    def init_weight(self):\n",
    "        init_bn(self.bn0)\n",
    "        init_layer(self.fc1)\n",
    "        \n",
    "\n",
    "    def forward(self, input_data):\n",
    "        x = input_data.transpose(2,3)\n",
    "        x = torch.cat((x,x,x),1)\n",
    "\n",
    "        x = x.transpose(2, 3)\n",
    "\n",
    "        x = self.encoder(x)\n",
    "        \n",
    "        x = torch.mean(x, dim=2)\n",
    "\n",
    "        x1 = F.max_pool1d(x, kernel_size=3, stride=1, padding=1)\n",
    "        x2 = F.avg_pool1d(x, kernel_size=3, stride=1, padding=1)\n",
    "        x = x1 + x2\n",
    "\n",
    "        x = x.transpose(1, 2)\n",
    "        x = F.relu_(self.fc1(x))\n",
    "        x = x.transpose(1, 2)\n",
    "\n",
    "        (clipwise_output, norm_att, segmentwise_output) = self.att_block2(x)\n",
    "        logit = torch.sum(norm_att * self.att_block2.cla(x), dim=2)\n",
    "\n",
    "        output_dict = {\n",
    "            'logit': logit,\n",
    "        }\n",
    "\n",
    "        return output_dict"
   ]
  },
  {
   "cell_type": "code",
   "execution_count": 6,
   "id": "88e34099",
   "metadata": {
    "execution": {
     "iopub.execute_input": "2025-05-15T20:44:01.211386Z",
     "iopub.status.busy": "2025-05-15T20:44:01.211032Z",
     "iopub.status.idle": "2025-05-15T20:44:01.218489Z",
     "shell.execute_reply": "2025-05-15T20:44:01.217244Z"
    },
    "papermill": {
     "duration": 0.014485,
     "end_time": "2025-05-15T20:44:01.220220",
     "exception": false,
     "start_time": "2025-05-15T20:44:01.205735",
     "status": "completed"
    },
    "tags": []
   },
   "outputs": [
    {
     "data": {
      "text/plain": [
       "['/kaggle/input/birdclef-2025-sed-models-p/sed0.pth',\n",
       " '/kaggle/input/birdclef-2025-sed-models-p/sed1.pth',\n",
       " '/kaggle/input/birdclef-2025-sed-models-p/sed2.pth']"
      ]
     },
     "execution_count": 6,
     "metadata": {},
     "output_type": "execute_result"
    }
   ],
   "source": [
    "base_model_name='eca_nfnet_l0'\n",
    "pretrained=False\n",
    "in_channels=3\n",
    "\n",
    "MODELS = [f'/kaggle/input/birdclef-2025-sed-models-p/sed{i}.pth' for i in range(3)]\n",
    "\n",
    "MODELS"
   ]
  },
  {
   "cell_type": "code",
   "execution_count": 7,
   "id": "2c23f5bf",
   "metadata": {
    "execution": {
     "iopub.execute_input": "2025-05-15T20:44:01.230750Z",
     "iopub.status.busy": "2025-05-15T20:44:01.230269Z",
     "iopub.status.idle": "2025-05-15T20:44:06.691960Z",
     "shell.execute_reply": "2025-05-15T20:44:06.691017Z"
    },
    "papermill": {
     "duration": 5.46896,
     "end_time": "2025-05-15T20:44:06.693904",
     "exception": false,
     "start_time": "2025-05-15T20:44:01.224944",
     "status": "completed"
    },
    "tags": []
   },
   "outputs": [],
   "source": [
    "models = []\n",
    "for path in MODELS:\n",
    "    model = TimmSED(base_model_name=base_model_name,\n",
    "               pretrained=pretrained,\n",
    "               num_classes=len(class_labels),\n",
    "               in_channels=in_channels,\n",
    "               n_mels=n_mels);\n",
    "    model.load_state_dict(torch.load(path, weights_only=True, map_location=torch.device('cpu')))\n",
    "    model.eval();\n",
    "    models.append(model)"
   ]
  },
  {
   "cell_type": "markdown",
   "id": "7d7906a1",
   "metadata": {
    "papermill": {
     "duration": 0.005466,
     "end_time": "2025-05-15T20:44:06.705265",
     "exception": false,
     "start_time": "2025-05-15T20:44:06.699799",
     "status": "completed"
    },
    "tags": []
   },
   "source": [
    "# Predict"
   ]
  },
  {
   "cell_type": "code",
   "execution_count": 8,
   "id": "de3df626",
   "metadata": {
    "execution": {
     "iopub.execute_input": "2025-05-15T20:44:06.715481Z",
     "iopub.status.busy": "2025-05-15T20:44:06.715102Z",
     "iopub.status.idle": "2025-05-15T20:44:06.722030Z",
     "shell.execute_reply": "2025-05-15T20:44:06.720966Z"
    },
    "papermill": {
     "duration": 0.013863,
     "end_time": "2025-05-15T20:44:06.723693",
     "exception": false,
     "start_time": "2025-05-15T20:44:06.709830",
     "status": "completed"
    },
    "tags": []
   },
   "outputs": [],
   "source": [
    "def prediction(afile):    \n",
    "    global pred\n",
    "    path = test_audio_dir + afile + '.ogg'\n",
    "    with torch.inference_mode():\n",
    "        sig = audio_to_mel(path)\n",
    "        outputs = None\n",
    "        for model in models:\n",
    "            model.eval()\n",
    "            p = model(sig)\n",
    "            p = torch.sigmoid(p['logit']).detach().cpu().numpy() \n",
    "            p = apply_power_to_low_ranked_cols(p, top_k=30,exponent=2)\n",
    "            if outputs is None: outputs = p\n",
    "            else: outputs += p\n",
    "            \n",
    "        outputs /= len(models)\n",
    "        chunks = [[] for i in range(12)]\n",
    "        for i in range(len(chunks)):        \n",
    "            chunk_end_time = (i + 1) * 5\n",
    "            row_id = afile + '_' + str(chunk_end_time)\n",
    "            pred['row_id'].append(row_id)\n",
    "            bird_no = 0\n",
    "            for bird in class_labels:         \n",
    "                pred[bird].append(outputs[i,bird_no])\n",
    "                bird_no += 1\n",
    "        gc.collect()"
   ]
  },
  {
   "cell_type": "code",
   "execution_count": 9,
   "id": "ac9e2756",
   "metadata": {
    "execution": {
     "iopub.execute_input": "2025-05-15T20:44:06.734847Z",
     "iopub.status.busy": "2025-05-15T20:44:06.734420Z",
     "iopub.status.idle": "2025-05-15T20:44:31.359188Z",
     "shell.execute_reply": "2025-05-15T20:44:31.355759Z"
    },
    "papermill": {
     "duration": 24.64036,
     "end_time": "2025-05-15T20:44:31.368840",
     "exception": false,
     "start_time": "2025-05-15T20:44:06.728480",
     "status": "completed"
    },
    "tags": []
   },
   "outputs": [
    {
     "name": "stdout",
     "output_type": "stream",
     "text": [
      "35.88818058371544\n"
     ]
    }
   ],
   "source": [
    "pred = {'row_id': []}\n",
    "for species_code in class_labels:\n",
    "    pred[species_code] = []\n",
    "    \n",
    "start = time.time()\n",
    "with concurrent.futures.ThreadPoolExecutor(max_workers=5) as executor:\n",
    "    _ = list(executor.map(prediction, file_list))\n",
    "end_t = time.time()\n",
    "\n",
    "if debug == True:\n",
    "    print(700*(end_t - start)/60/debug_num)"
   ]
  },
  {
   "cell_type": "code",
   "execution_count": 10,
   "id": "73097b21",
   "metadata": {
    "execution": {
     "iopub.execute_input": "2025-05-15T20:44:31.411025Z",
     "iopub.status.busy": "2025-05-15T20:44:31.408327Z",
     "iopub.status.idle": "2025-05-15T20:44:31.480964Z",
     "shell.execute_reply": "2025-05-15T20:44:31.479575Z"
    },
    "papermill": {
     "duration": 0.09469,
     "end_time": "2025-05-15T20:44:31.482748",
     "exception": false,
     "start_time": "2025-05-15T20:44:31.388058",
     "status": "completed"
    },
    "tags": []
   },
   "outputs": [
    {
     "data": {
      "text/html": [
       "<div>\n",
       "<style scoped>\n",
       "    .dataframe tbody tr th:only-of-type {\n",
       "        vertical-align: middle;\n",
       "    }\n",
       "\n",
       "    .dataframe tbody tr th {\n",
       "        vertical-align: top;\n",
       "    }\n",
       "\n",
       "    .dataframe thead th {\n",
       "        text-align: right;\n",
       "    }\n",
       "</style>\n",
       "<table border=\"1\" class=\"dataframe\">\n",
       "  <thead>\n",
       "    <tr style=\"text-align: right;\">\n",
       "      <th></th>\n",
       "      <th>row_id</th>\n",
       "      <th>1139490</th>\n",
       "      <th>1192948</th>\n",
       "      <th>1194042</th>\n",
       "      <th>126247</th>\n",
       "      <th>1346504</th>\n",
       "      <th>134933</th>\n",
       "      <th>135045</th>\n",
       "      <th>1462711</th>\n",
       "      <th>1462737</th>\n",
       "      <th>...</th>\n",
       "      <th>yebfly1</th>\n",
       "      <th>yebsee1</th>\n",
       "      <th>yecspi2</th>\n",
       "      <th>yectyr1</th>\n",
       "      <th>yehbla2</th>\n",
       "      <th>yehcar1</th>\n",
       "      <th>yelori1</th>\n",
       "      <th>yeofly1</th>\n",
       "      <th>yercac1</th>\n",
       "      <th>ywcpar</th>\n",
       "    </tr>\n",
       "  </thead>\n",
       "  <tbody>\n",
       "    <tr>\n",
       "      <th>0</th>\n",
       "      <td>H02_20230421_190500_5</td>\n",
       "      <td>0.007497</td>\n",
       "      <td>0.003587</td>\n",
       "      <td>0.116907</td>\n",
       "      <td>0.003879</td>\n",
       "      <td>0.102557</td>\n",
       "      <td>0.005249</td>\n",
       "      <td>0.009220</td>\n",
       "      <td>0.072068</td>\n",
       "      <td>0.034998</td>\n",
       "      <td>...</td>\n",
       "      <td>0.003746</td>\n",
       "      <td>0.013290</td>\n",
       "      <td>0.009191</td>\n",
       "      <td>0.015544</td>\n",
       "      <td>0.005509</td>\n",
       "      <td>0.015915</td>\n",
       "      <td>0.003645</td>\n",
       "      <td>0.008549</td>\n",
       "      <td>0.008840</td>\n",
       "      <td>0.005961</td>\n",
       "    </tr>\n",
       "    <tr>\n",
       "      <th>1</th>\n",
       "      <td>H02_20230421_190500_10</td>\n",
       "      <td>0.005165</td>\n",
       "      <td>0.002947</td>\n",
       "      <td>0.120524</td>\n",
       "      <td>0.015524</td>\n",
       "      <td>0.104939</td>\n",
       "      <td>0.010908</td>\n",
       "      <td>0.045893</td>\n",
       "      <td>0.075587</td>\n",
       "      <td>0.020461</td>\n",
       "      <td>...</td>\n",
       "      <td>0.005547</td>\n",
       "      <td>0.015921</td>\n",
       "      <td>0.018771</td>\n",
       "      <td>0.013186</td>\n",
       "      <td>0.010438</td>\n",
       "      <td>0.026280</td>\n",
       "      <td>0.005201</td>\n",
       "      <td>0.025851</td>\n",
       "      <td>0.014369</td>\n",
       "      <td>0.005252</td>\n",
       "    </tr>\n",
       "    <tr>\n",
       "      <th>2</th>\n",
       "      <td>H02_20230421_190500_15</td>\n",
       "      <td>0.002680</td>\n",
       "      <td>0.002755</td>\n",
       "      <td>0.113240</td>\n",
       "      <td>0.006262</td>\n",
       "      <td>0.079267</td>\n",
       "      <td>0.009335</td>\n",
       "      <td>0.057365</td>\n",
       "      <td>0.056575</td>\n",
       "      <td>0.013119</td>\n",
       "      <td>...</td>\n",
       "      <td>0.004244</td>\n",
       "      <td>0.013405</td>\n",
       "      <td>0.012106</td>\n",
       "      <td>0.010207</td>\n",
       "      <td>0.006158</td>\n",
       "      <td>0.028771</td>\n",
       "      <td>0.001684</td>\n",
       "      <td>0.021333</td>\n",
       "      <td>0.004570</td>\n",
       "      <td>0.017253</td>\n",
       "    </tr>\n",
       "    <tr>\n",
       "      <th>3</th>\n",
       "      <td>H02_20230421_190500_20</td>\n",
       "      <td>0.002365</td>\n",
       "      <td>0.001675</td>\n",
       "      <td>0.133799</td>\n",
       "      <td>0.003711</td>\n",
       "      <td>0.100321</td>\n",
       "      <td>0.007870</td>\n",
       "      <td>0.022109</td>\n",
       "      <td>0.045176</td>\n",
       "      <td>0.007365</td>\n",
       "      <td>...</td>\n",
       "      <td>0.002963</td>\n",
       "      <td>0.010229</td>\n",
       "      <td>0.003292</td>\n",
       "      <td>0.011996</td>\n",
       "      <td>0.005059</td>\n",
       "      <td>0.016072</td>\n",
       "      <td>0.002355</td>\n",
       "      <td>0.015806</td>\n",
       "      <td>0.006521</td>\n",
       "      <td>0.001942</td>\n",
       "    </tr>\n",
       "    <tr>\n",
       "      <th>4</th>\n",
       "      <td>H02_20230421_190500_25</td>\n",
       "      <td>0.003842</td>\n",
       "      <td>0.004219</td>\n",
       "      <td>0.155001</td>\n",
       "      <td>0.004102</td>\n",
       "      <td>0.212795</td>\n",
       "      <td>0.006781</td>\n",
       "      <td>0.078589</td>\n",
       "      <td>0.070545</td>\n",
       "      <td>0.004635</td>\n",
       "      <td>...</td>\n",
       "      <td>0.003579</td>\n",
       "      <td>0.018060</td>\n",
       "      <td>0.007060</td>\n",
       "      <td>0.008077</td>\n",
       "      <td>0.009256</td>\n",
       "      <td>0.020217</td>\n",
       "      <td>0.002834</td>\n",
       "      <td>0.010097</td>\n",
       "      <td>0.004729</td>\n",
       "      <td>0.001982</td>\n",
       "    </tr>\n",
       "  </tbody>\n",
       "</table>\n",
       "<p>5 rows × 207 columns</p>\n",
       "</div>"
      ],
      "text/plain": [
       "                   row_id   1139490   1192948   1194042    126247   1346504  \\\n",
       "0   H02_20230421_190500_5  0.007497  0.003587  0.116907  0.003879  0.102557   \n",
       "1  H02_20230421_190500_10  0.005165  0.002947  0.120524  0.015524  0.104939   \n",
       "2  H02_20230421_190500_15  0.002680  0.002755  0.113240  0.006262  0.079267   \n",
       "3  H02_20230421_190500_20  0.002365  0.001675  0.133799  0.003711  0.100321   \n",
       "4  H02_20230421_190500_25  0.003842  0.004219  0.155001  0.004102  0.212795   \n",
       "\n",
       "     134933    135045   1462711   1462737  ...   yebfly1   yebsee1   yecspi2  \\\n",
       "0  0.005249  0.009220  0.072068  0.034998  ...  0.003746  0.013290  0.009191   \n",
       "1  0.010908  0.045893  0.075587  0.020461  ...  0.005547  0.015921  0.018771   \n",
       "2  0.009335  0.057365  0.056575  0.013119  ...  0.004244  0.013405  0.012106   \n",
       "3  0.007870  0.022109  0.045176  0.007365  ...  0.002963  0.010229  0.003292   \n",
       "4  0.006781  0.078589  0.070545  0.004635  ...  0.003579  0.018060  0.007060   \n",
       "\n",
       "    yectyr1   yehbla2   yehcar1   yelori1   yeofly1   yercac1    ywcpar  \n",
       "0  0.015544  0.005509  0.015915  0.003645  0.008549  0.008840  0.005961  \n",
       "1  0.013186  0.010438  0.026280  0.005201  0.025851  0.014369  0.005252  \n",
       "2  0.010207  0.006158  0.028771  0.001684  0.021333  0.004570  0.017253  \n",
       "3  0.011996  0.005059  0.016072  0.002355  0.015806  0.006521  0.001942  \n",
       "4  0.008077  0.009256  0.020217  0.002834  0.010097  0.004729  0.001982  \n",
       "\n",
       "[5 rows x 207 columns]"
      ]
     },
     "metadata": {},
     "output_type": "display_data"
    }
   ],
   "source": [
    "results = pd.DataFrame(pred, columns = ['row_id'] + class_labels) \n",
    "display(results.head())"
   ]
  },
  {
   "cell_type": "code",
   "execution_count": null,
   "id": "16c68a6a",
   "metadata": {
    "execution": {
     "iopub.execute_input": "2025-05-15T20:44:31.494311Z",
     "iopub.status.busy": "2025-05-15T20:44:31.493977Z",
     "iopub.status.idle": "2025-05-15T20:44:32.207386Z",
     "shell.execute_reply": "2025-05-15T20:44:32.206294Z"
    },
    "papermill": {
     "duration": 0.721264,
     "end_time": "2025-05-15T20:44:32.209270",
     "exception": false,
     "start_time": "2025-05-15T20:44:31.488006",
     "status": "completed"
    },
    "tags": []
   },
   "outputs": [],
   "source": [
    "results.to_csv(\"submission.csv\", index=False)    \n",
    "\n",
    "sub = pd.read_csv('submission.csv')\n",
    "cols = sub.columns[1:]\n",
    "groups = sub['row_id'].str.rsplit('_', n=1).str[0]\n",
    "groups = groups.values\n",
    "for group in np.unique(groups):\n",
    "    sub_group = sub[group == groups]\n",
    "    predictions = sub_group[cols].values\n",
    "    new_predictions = predictions.copy()\n",
    "    for i in range(1, predictions.shape[0]-1):\n",
    "        new_predictions[i] = (predictions[i-1] * 0.2) + (predictions[i] * 0.6) + (predictions[i+1] * 0.2)\n",
    "    new_predictions[0] = (predictions[0] * 0.8) + (predictions[1] * 0.2)\n",
    "    new_predictions[-1] = (predictions[-1] * 0.8) + (predictions[-2] * 0.2)\n",
    "    sub_group[cols] = new_predictions\n",
    "    sub[group == groups] = sub_group\n",
    "sub.to_csv(\"submission.csv\", index=False)\n",
    "\n",
    "\n",
    "if debug:\n",
    "    display(results)"
   ]
  },
  {
   "cell_type": "markdown",
   "id": "6e95be93",
   "metadata": {
    "papermill": {
     "duration": 0.005297,
     "end_time": "2025-05-15T20:44:32.220470",
     "exception": false,
     "start_time": "2025-05-15T20:44:32.215173",
     "status": "completed"
    },
    "tags": []
   },
   "source": [
    "# Sound Event Visualisations\n",
    "* Related Notebooks  \n",
    "[BirdCLEF2025+:Sound Event Visualisations](https://www.kaggle.com/code/myso1987/birdclef2025-sound-event-visualisations)"
   ]
  },
  {
   "cell_type": "code",
   "execution_count": null,
   "id": "838bd0d1",
   "metadata": {
    "execution": {
     "iopub.execute_input": "2025-05-15T20:44:32.234031Z",
     "iopub.status.busy": "2025-05-15T20:44:32.233687Z",
     "iopub.status.idle": "2025-05-15T20:44:41.209946Z",
     "shell.execute_reply": "2025-05-15T20:44:41.208877Z"
    },
    "is_executing": true,
    "papermill": {
     "duration": 8.990393,
     "end_time": "2025-05-15T20:44:41.216452",
     "exception": false,
     "start_time": "2025-05-15T20:44:32.226059",
     "status": "completed"
    },
    "tags": []
   },
   "outputs": [],
   "source": [
    "if debug == True:\n",
    "    import numpy as np\n",
    "    import matplotlib.pyplot as plt\n",
    "    \n",
    "    sample_rate = 32000\n",
    "    n_fft=1024\n",
    "    win_length=1024\n",
    "    hop_length=512\n",
    "    f_min=50\n",
    "    f_max=16000\n",
    "    n_mels=128\n",
    "    \n",
    "    mel_spectrogram = AT.MelSpectrogram(\n",
    "        sample_rate=sample_rate,\n",
    "        n_fft=n_fft,\n",
    "        win_length=win_length,\n",
    "        hop_length=hop_length,\n",
    "        center=True,\n",
    "        f_min=f_min,\n",
    "        f_max=f_max,\n",
    "        pad_mode=\"reflect\",\n",
    "        power=2.0,\n",
    "        norm='slaney',\n",
    "        n_mels=n_mels,\n",
    "        mel_scale=\"htk\",\n",
    "        # normalized=True\n",
    "    )\n",
    "    \n",
    "    def audio_to_mel_debug(filepath=None):\n",
    "        waveform, sample_rate = torchaudio.load(filepath,backend=\"soundfile\")\n",
    "        len_wav = waveform.shape[1]\n",
    "        waveform = waveform / torch.max(torch.abs(waveform))\n",
    "        melspec = mel_spectrogram(waveform)\n",
    "        melspec = 10*torch.log10(melspec)\n",
    "        return melspec\n",
    "    \n",
    "    def plot_results(results, file_name):\n",
    "        path = test_audio_dir + file_name + \".ogg\"\n",
    "        specgram = audio_to_mel_debug(path)\n",
    "        fig, axes = plt.subplots(2, 1, figsize=(10, 8))\n",
    "        axes[0].set_title(file_name)\n",
    "        im = axes[0].imshow((specgram[0]), origin=\"lower\", aspect=\"auto\")\n",
    "        axes[0].set_ylabel(\"mel bin\")\n",
    "        axes[0].set_xlabel(\"frame\")\n",
    "        fig.colorbar(im, ax=axes[0])\n",
    "        heatmap = axes[1].pcolor(results[results[\"row_id\"].str.contains(file_name)].iloc[:12,1:].values.T, edgecolors='k', linewidths=0.1, vmin=0, vmax=1, cmap='Blues')\n",
    "        fig.colorbar(heatmap, ax=axes[1])\n",
    "        axes[1].set_xticks(np.arange(0, 12, 1))\n",
    "        axes[1].set_xticklabels(np.arange(0,60,5))\n",
    "        axes[1].set_ylabel(\"sec\")\n",
    "        axes[1].set_xlabel(\"species\")\n",
    "        fig.tight_layout()\n",
    "        fig.show()\n",
    "        \n",
    "    for file_name in file_list:\n",
    "        plot_results(results, file_name)"
   ]
  },
  {
   "cell_type": "code",
   "execution_count": null,
   "id": "f3ff760ab4647858",
   "metadata": {
    "collapsed": false
   },
   "outputs": [],
   "source": []
  }
 ],
 "metadata": {
  "kaggle": {
   "accelerator": "none",
   "dataSources": [
    {
     "databundleVersionId": 11361821,
     "sourceId": 91844,
     "sourceType": "competition"
    },
    {
     "datasetId": 7430593,
     "sourceId": 11828260,
     "sourceType": "datasetVersion"
    }
   ],
   "dockerImageVersionId": 30918,
   "isGpuEnabled": false,
   "isInternetEnabled": false,
   "language": "python",
   "sourceType": "notebook"
  },
  "kernelspec": {
   "display_name": "Python 3",
   "language": "python",
   "name": "python3"
  },
  "language_info": {
   "codemirror_mode": {
    "name": "ipython",
    "version": 3
   },
   "file_extension": ".py",
   "mimetype": "text/x-python",
   "name": "python",
   "nbconvert_exporter": "python",
   "pygments_lexer": "ipython3",
   "version": "3.10.12"
  },
  "papermill": {
   "default_parameters": {},
   "duration": 63.13983,
   "end_time": "2025-05-15T20:44:43.800088",
   "environment_variables": {},
   "exception": null,
   "input_path": "__notebook__.ipynb",
   "output_path": "__notebook__.ipynb",
   "parameters": {},
   "start_time": "2025-05-15T20:43:40.660258",
   "version": "2.6.0"
  }
 },
 "nbformat": 4,
 "nbformat_minor": 5
}
